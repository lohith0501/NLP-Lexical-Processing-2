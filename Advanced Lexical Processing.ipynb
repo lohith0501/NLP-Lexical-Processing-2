{
 "cells": [
  {
   "cell_type": "markdown",
   "metadata": {},
   "source": [
    "# Advanced Canonicalisation Algorithms"
   ]
  },
  {
   "cell_type": "markdown",
   "metadata": {},
   "source": [
    "## Soundex Algorithm"
   ]
  },
  {
   "cell_type": "code",
   "execution_count": 1,
   "metadata": {},
   "outputs": [],
   "source": [
    "def get_soundex(token):\n",
    "    \"\"\"Get the soundex code for the string\"\"\"\n",
    "    token = token.upper()\n",
    "\n",
    "    soundex = \"\"\n",
    "    \n",
    "    # first letter of input is always the first letter of soundex\n",
    "    soundex += token[0]\n",
    "    \n",
    "    # create a dictionary which maps letters to respective soundex codes. Vowels and 'H', 'W' and 'Y' will be represented by '.'\n",
    "    dictionary = {\"BFPV\": \"1\", \"CGJKQSXZ\":\"2\", \"DT\":\"3\", \"L\":\"4\", \"MN\":\"5\", \"R\":\"6\", \"AEIOUHWY\":\".\"}\n",
    "\n",
    "    for char in token[1:]:\n",
    "        for key in dictionary.keys():\n",
    "            if char in key:\n",
    "                code = dictionary[key]\n",
    "                if code != soundex[-1]:\n",
    "                    soundex += code\n",
    "\n",
    "    # remove vowels and 'H', 'W' and 'Y' from soundex\n",
    "    soundex = soundex.replace(\".\", \"\")\n",
    "    \n",
    "    # trim or pad to make soundex a 4-character code\n",
    "    soundex = soundex[:4].ljust(4, \"0\")\n",
    "        \n",
    "    return soundex"
   ]
  },
  {
   "cell_type": "code",
   "execution_count": 6,
   "metadata": {},
   "outputs": [
    {
     "name": "stdout",
     "output_type": "stream",
     "text": [
      "B524\n",
      "B524\n",
      "B524\n"
     ]
    }
   ],
   "source": [
    "print(get_soundex(\"Bangalore\"))\n",
    "print(get_soundex(\"Bengaluru\"))\n",
    "print(get_soundex(\"benglore\"))"
   ]
  },
  {
   "cell_type": "code",
   "execution_count": 5,
   "metadata": {},
   "outputs": [
    {
     "name": "stdout",
     "output_type": "stream",
     "text": [
      "R230\n",
      "R230\n",
      "R230\n"
     ]
    }
   ],
   "source": [
    "print(get_soundex(\"Rachet\"))\n",
    "print(get_soundex(\"Rachit\"))\n",
    "print(get_soundex(\"Racheet\"))"
   ]
  },
  {
   "cell_type": "code",
   "execution_count": 14,
   "metadata": {},
   "outputs": [
    {
     "name": "stdout",
     "output_type": "stream",
     "text": [
      "K223\n",
      "K223\n",
      "K223\n",
      "K223\n"
     ]
    }
   ],
   "source": [
    "print(get_soundex(\"Kaushik Ghatak\"))\n",
    "print(get_soundex(\"kousik gatak\"))\n",
    "print(get_soundex(\"kousik ghatak\"))\n",
    "print(get_soundex(\"kouski ghatak\"))"
   ]
  },
  {
   "cell_type": "code",
   "execution_count": 10,
   "metadata": {},
   "outputs": [
    {
     "name": "stdout",
     "output_type": "stream",
     "text": [
      "S531\n",
      "S531\n",
      "S531\n",
      "S531\n"
     ]
    }
   ],
   "source": [
    "print(get_soundex(\"Sandeep\"))\n",
    "print(get_soundex(\"Sandip\"))\n",
    "print(get_soundex(\"Sandep\"))\n",
    "print(get_soundex(\"sanedep\"))"
   ]
  },
  {
   "cell_type": "markdown",
   "metadata": {},
   "source": [
    "## Levenshtein distance"
   ]
  },
  {
   "cell_type": "code",
   "execution_count": 15,
   "metadata": {},
   "outputs": [],
   "source": [
    "from nltk.metrics.distance import edit_distance"
   ]
  },
  {
   "cell_type": "code",
   "execution_count": 16,
   "metadata": {},
   "outputs": [
    {
     "data": {
      "text/plain": [
       "2"
      ]
     },
     "execution_count": 16,
     "metadata": {},
     "output_type": "execute_result"
    }
   ],
   "source": [
    "edit_distance(\"apple\", \"appel\")"
   ]
  },
  {
   "cell_type": "markdown",
   "metadata": {},
   "source": [
    "## Damerau-Levenshtein Distance (wil consider transpose)"
   ]
  },
  {
   "cell_type": "code",
   "execution_count": 17,
   "metadata": {},
   "outputs": [
    {
     "data": {
      "text/plain": [
       "2"
      ]
     },
     "execution_count": 17,
     "metadata": {},
     "output_type": "execute_result"
    }
   ],
   "source": [
    "edit_distance(\"apple\", \"appel\", transpositions=False, )"
   ]
  },
  {
   "cell_type": "code",
   "execution_count": 18,
   "metadata": {},
   "outputs": [
    {
     "data": {
      "text/plain": [
       "10"
      ]
     },
     "execution_count": 18,
     "metadata": {},
     "output_type": "execute_result"
    }
   ],
   "source": [
    "edit_distance(\"Damerau\", \"Levenshtein\", transpositions=False, )"
   ]
  }
 ],
 "metadata": {
  "kernelspec": {
   "display_name": "Python 3",
   "language": "python",
   "name": "python3"
  },
  "language_info": {
   "codemirror_mode": {
    "name": "ipython",
    "version": 3
   },
   "file_extension": ".py",
   "mimetype": "text/x-python",
   "name": "python",
   "nbconvert_exporter": "python",
   "pygments_lexer": "ipython3",
   "version": "3.7.4"
  }
 },
 "nbformat": 4,
 "nbformat_minor": 2
}
